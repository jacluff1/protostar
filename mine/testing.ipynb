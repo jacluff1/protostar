{
 "cells": [
  {
   "cell_type": "code",
   "execution_count": 26,
   "metadata": {
    "collapsed": false,
    "scrolled": true
   },
   "outputs": [
    {
     "name": "stdout",
     "output_type": "stream",
     "text": [
      "setting up SPH model...\n",
      "placing particles in sphere with uniform distribution...\n",
      "time:  0\n"
     ]
    },
    {
     "name": "stderr",
     "output_type": "stream",
     "text": [
      "/home/djak/PythonFiles/protostar_DEV/mine/py/SPH_dimentionless.py:219: RuntimeWarning: divide by zero encountered in true_divide\n",
      "  options[0]  =   (self.smoothing_lengths / np.sqrt((self.velocities**2).sum(axis=1)) ).min()\n"
     ]
    },
    {
     "name": "stdout",
     "output_type": "stream",
     "text": [
      "time:  1990.3193610065\n",
      "time:  2149.54490988702\n",
      "time:  2295.4941969576603\n",
      "time:  2438.8507818371286\n",
      "time:  2492.4981318127075\n",
      "time:  2543.86623554915\n",
      "time:  2591.233936425669\n",
      "time:  2640.339589865387\n",
      "time:  2692.4289550293747\n",
      "time:  2745.1713355321535\n",
      "time:  2797.175590648518\n",
      "time:  2850.6887186904905\n",
      "time:  2903.747803003579\n",
      "time:  2953.9024969533407\n",
      "time:  2971.4715800961862\n",
      "time:  2988.2390504966424\n",
      "time:  3004.251152414552\n",
      "time:  3021.173373835868\n",
      "time:  3037.4979615484413\n",
      "time:  3053.767516958782\n",
      "time:  3069.3740455210545\n",
      "time:  3084.3923022441195\n",
      "time:  3100.2609101258413\n",
      "time:  3117.2099951555356\n",
      "time:  3133.804315943001\n",
      "time:  3150.5973605117556\n",
      "time:  3167.3871317020944\n",
      "time:  3185.1516640046307\n",
      "time:  3202.28427237678\n",
      "time:  3218.9098276547606\n",
      "time:  3236.105958546288\n",
      "time:  3244.678356152347\n",
      "time:  3252.8598548466734\n",
      "time:  3260.679658112476\n",
      "time:  3268.5144901433473\n",
      "time:  3276.474841808211\n",
      "time:  3284.9438980996088\n",
      "time:  3293.2234010823204\n",
      "time:  3301.36737091826\n",
      "time:  3309.5064922452316\n",
      "time:  3317.8060393476358\n",
      "time:  3326.2835807247734\n",
      "time:  3335.128776890783\n",
      "time:  3344.5942484823654\n",
      "time:  3354.764029639122\n",
      "time:  3365.4207170901254\n",
      "time:  3376.2360560457805\n",
      "time:  3386.139876327097\n",
      "time:  3396.94556745156\n",
      "time:  3408.5436265234484\n",
      "time:  3421.3054359859484\n",
      "time:  3434.3986288964174\n",
      "time:  3447.581159444152\n",
      "time:  3461.4317562474644\n",
      "time:  3475.830928937318\n",
      "time:  3491.249181423127\n",
      "time:  3507.825729145755\n",
      "time:  3525.247764533108\n",
      "time:  3543.6342960576176\n",
      "time:  3563.194228132718\n",
      "time:  3583.899957214254\n",
      "time:  3606.048425358699\n",
      "time:  3629.9540024051003\n",
      "time:  3656.012212574148\n",
      "time:  3681.7205117261956\n",
      "time:  3705.560984316189\n",
      "time:  3727.9307985529936\n",
      "time:  3750.1060272334794\n",
      "time:  3772.4328218858072\n",
      "time:  3795.253308804459\n",
      "time:  3811.345893050145\n",
      "time:  3825.6596185368576\n",
      "time:  3841.6813039968224\n",
      "time:  3858.257111537708\n",
      "time:  3874.4722897985657\n",
      "time:  3891.680868121764\n",
      "time:  3908.9227577368024\n",
      "time:  3927.05209964857\n",
      "time:  3946.046509775139\n",
      "time:  3964.3187218877556\n",
      "time:  3982.328058378228\n",
      "time:  4000.642042996083\n",
      "time:  4019.5599226210315\n",
      "time:  4038.6806490437707\n",
      "time:  4058.2829026943923\n",
      "time:  4078.280446058273\n",
      "time:  4098.977499659445\n",
      "time:  4120.092833430314\n",
      "time:  4141.136755870818\n",
      "time:  4160.542820160347\n",
      "time:  4179.973836788206\n",
      "time:  4199.310624517807\n",
      "time:  4217.2001428880685\n",
      "time:  4234.425275859343\n",
      "time:  4253.425768821001\n",
      "time:  4273.778126749359\n",
      "time:  4294.316644461564\n",
      "time:  4315.288751936624\n",
      "time:  4334.132740422998\n"
     ]
    }
   ],
   "source": [
    "import SPH_dimentionless as SPH\n",
    "sph = SPH.model(particle_preview=False, n_neighbors=7)\n",
    "sph.cloud_movie()"
   ]
  },
  {
   "cell_type": "code",
   "execution_count": null,
   "metadata": {
    "collapsed": false,
    "scrolled": true
   },
   "outputs": [],
   "source": [
    "import numpy as np\n",
    "a = np.arange(10)\n",
    "a[a<5]"
   ]
  },
  {
   "cell_type": "code",
   "execution_count": null,
   "metadata": {
    "collapsed": false
   },
   "outputs": [],
   "source": []
  },
  {
   "cell_type": "code",
   "execution_count": null,
   "metadata": {
    "collapsed": false
   },
   "outputs": [],
   "source": [
    "\n",
    "    "
   ]
  },
  {
   "cell_type": "code",
   "execution_count": null,
   "metadata": {
    "collapsed": true
   },
   "outputs": [],
   "source": []
  }
 ],
 "metadata": {
  "kernelspec": {
   "display_name": "Python 3",
   "language": "python",
   "name": "python3"
  },
  "language_info": {
   "codemirror_mode": {
    "name": "ipython",
    "version": 3
   },
   "file_extension": ".py",
   "mimetype": "text/x-python",
   "name": "python",
   "nbconvert_exporter": "python",
   "pygments_lexer": "ipython3",
   "version": "3.6.0"
  }
 },
 "nbformat": 4,
 "nbformat_minor": 2
}
