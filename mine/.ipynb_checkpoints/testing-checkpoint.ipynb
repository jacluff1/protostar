{
 "cells": [
  {
   "cell_type": "code",
   "execution_count": 27,
   "metadata": {
    "collapsed": false,
    "scrolled": true
   },
   "outputs": [
    {
     "name": "stdout",
     "output_type": "stream",
     "text": [
      "setting up SPH model...\n",
      "placing particles in sphere with uniform distribution...\n"
     ]
    },
    {
     "name": "stderr",
     "output_type": "stream",
     "text": [
      "/home/djak/PythonFiles/protostar_DEV/mine/SPH_dimentionless.py:225: RuntimeWarning: divide by zero encountered in true_divide\n",
      "  def __update_dt(self):\n"
     ]
    },
    {
     "name": "stdout",
     "output_type": "stream",
     "text": [
      "time:  0\n",
      "time:  0.015764852945116096\n",
      "time:  0.03152970589023219\n",
      "time:  0.04729455883534829\n",
      "time:  0.06305941178046438\n",
      "time:  0.07882426472558048\n",
      "time:  0.09458911767069657\n",
      "time:  0.11035397061581266\n",
      "time:  0.12611882356092877\n",
      "time:  0.14188367650604486\n",
      "time:  0.15764852945116095\n",
      "time:  0.17341338239627704\n",
      "time:  0.18917823534139314\n",
      "time:  0.20494308828650923\n",
      "time:  0.22070794123162532\n",
      "time:  0.2364727941767414\n",
      "time:  0.25223764712185753\n",
      "time:  0.2680025000669736\n",
      "time:  0.2837673530120897\n",
      "time:  0.2995322059572058\n",
      "time:  0.3152970589023219\n",
      "time:  0.331061911847438\n",
      "time:  0.3468267647925541\n",
      "time:  0.3625916177376702\n",
      "time:  0.3783564706827863\n",
      "time:  0.39412132362790236\n",
      "time:  0.40988617657301846\n",
      "time:  0.42565102951813455\n",
      "time:  0.44141588246325064\n",
      "time:  0.45718073540836673\n",
      "time:  0.4729455883534828\n",
      "time:  0.4887104412985989\n",
      "time:  0.5044752942437151\n",
      "time:  0.5202401471888312\n",
      "time:  0.5360050001339473\n",
      "time:  0.5517698530790633\n",
      "time:  0.5675347060241794\n",
      "time:  0.5832995589692955\n",
      "time:  0.5990644119144116\n",
      "time:  0.6148292648595277\n",
      "time:  0.6305941178046438\n",
      "time:  0.6463589707497599\n",
      "time:  0.662123823694876\n",
      "time:  0.6778886766399921\n",
      "time:  0.6936535295851082\n",
      "time:  0.7094183825302243\n",
      "time:  0.7251832354753404\n",
      "time:  0.7409480884204565\n",
      "time:  0.7567129413655725\n",
      "time:  0.7724777943106886\n",
      "time:  0.7882426472558047\n",
      "time:  0.8040075002009208\n",
      "time:  0.8197723531460369\n",
      "time:  0.835537206091153\n",
      "time:  0.8513020590362691\n",
      "time:  0.8670669119813852\n",
      "time:  0.8828317649265013\n",
      "time:  0.8985966178716174\n",
      "time:  0.9143614708167335\n",
      "time:  0.9301263237618496\n",
      "time:  0.9458911767069657\n",
      "time:  0.9616560296520817\n",
      "time:  0.9774208825971978\n",
      "time:  0.9931857355423139\n",
      "time:  1.0089505884874301\n",
      "time:  1.0247154414325463\n",
      "time:  1.0404802943776625\n",
      "time:  1.0562451473227787\n",
      "time:  1.072010000267895\n",
      "time:  1.0877748532130112\n",
      "time:  1.1035397061581274\n",
      "time:  1.1193045591032436\n",
      "time:  1.1350694120483598\n",
      "time:  1.150834264993476\n",
      "time:  1.1665991179385922\n",
      "time:  1.1823639708837084\n",
      "time:  1.1981288238288246\n",
      "time:  1.2138936767739408\n",
      "time:  1.229658529719057\n",
      "time:  1.2454233826641732\n",
      "time:  1.2611882356092894\n",
      "time:  1.2769530885544056\n",
      "time:  1.2927179414995218\n",
      "time:  1.308482794444638\n",
      "time:  1.3242476473897542\n",
      "time:  1.3400125003348704\n",
      "time:  1.3557773532799866\n",
      "time:  1.3715422062251028\n",
      "time:  1.387307059170219\n",
      "time:  1.4030719121153352\n",
      "time:  1.4188367650604514\n",
      "time:  1.4346016180055676\n",
      "time:  1.4503664709506838\n",
      "time:  1.4661313238958\n",
      "time:  1.4818961768409162\n",
      "time:  1.4976610297860324\n",
      "time:  1.5134258827311486\n",
      "time:  1.5291907356762648\n",
      "time:  1.544955588621381\n",
      "time:  1.5607204415664973\n"
     ]
    }
   ],
   "source": [
    "import SPH2 as SPH\n",
    "sph = SPH.model(particle_preview=False)\n",
    "sph.cloud_movie()"
   ]
  },
  {
   "cell_type": "code",
   "execution_count": 9,
   "metadata": {
    "collapsed": false,
    "scrolled": true
   },
   "outputs": [
    {
     "data": {
      "text/plain": [
       "array([0, 1, 2, 3, 4])"
      ]
     },
     "execution_count": 9,
     "metadata": {},
     "output_type": "execute_result"
    }
   ],
   "source": [
    "import numpy as np\n",
    "a = np.arange(10)\n",
    "a[a<5]"
   ]
  },
  {
   "cell_type": "code",
   "execution_count": null,
   "metadata": {
    "collapsed": false
   },
   "outputs": [],
   "source": []
  },
  {
   "cell_type": "code",
   "execution_count": null,
   "metadata": {
    "collapsed": false
   },
   "outputs": [],
   "source": [
    "\n",
    "    "
   ]
  },
  {
   "cell_type": "code",
   "execution_count": null,
   "metadata": {
    "collapsed": true
   },
   "outputs": [],
   "source": []
  }
 ],
 "metadata": {
  "kernelspec": {
   "display_name": "Python 3",
   "language": "python",
   "name": "python3"
  },
  "language_info": {
   "codemirror_mode": {
    "name": "ipython",
    "version": 3
   },
   "file_extension": ".py",
   "mimetype": "text/x-python",
   "name": "python",
   "nbconvert_exporter": "python",
   "pygments_lexer": "ipython3",
   "version": "3.6.0"
  }
 },
 "nbformat": 4,
 "nbformat_minor": 2
}
