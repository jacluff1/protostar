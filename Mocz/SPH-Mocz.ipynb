{
 "cells": [
  {
   "cell_type": "markdown",
   "metadata": {},
   "source": [
    "# SPH - Philip Mocz"
   ]
  },
  {
   "cell_type": "code",
   "execution_count": 1,
   "metadata": {
    "collapsed": true
   },
   "outputs": [],
   "source": [
    "import numpy as np\n",
    "%matplotlib inline\n",
    "import matplotlib.pyplot as plt\n",
    "from mpl_toolkits.mplot3d import Axes3D\n",
    "import matplotlib.animation as ani\n",
    "from scipy.special import gamma"
   ]
  },
  {
   "cell_type": "code",
   "execution_count": 2,
   "metadata": {
    "collapsed": true
   },
   "outputs": [],
   "source": [
    "N = 100 # number of particles\n",
    "M = 2 # star mass\n",
    "m = M/N # particle mass\n",
    "R = 0.75 # star radius\n",
    "h = 0.04 / np.sqrt(N/1000) # smoothing length\n",
    "dt = .04 # time step\n",
    "nu = 1 # damping\n",
    "k = 0.1 # pressure constant\n",
    "n = 1 # polytropic index\n",
    "L = 400 # max time steps"
   ]
  },
  {
   "cell_type": "code",
   "execution_count": 3,
   "metadata": {
    "collapsed": true
   },
   "outputs": [],
   "source": [
    "def kernel(position):\n",
    "    \n",
    "    C_h = 1 / (4*np.pi*h**3)\n",
    "    q = np.linalg.norm(position) / h\n",
    "    \n",
    "    if q >= 2:\n",
    "        w = 0\n",
    "    elif q < 2 and q >= 1:\n",
    "        w = (2-q)**3\n",
    "    else:\n",
    "        w = (2-q)**3 - 4*(1-q)**3\n",
    "    \n",
    "    return C_h * w\n",
    "\n",
    "def kernel_gradient(position):\n",
    "    \n",
    "    C_h = 3 / (4*np.pi*h**4)\n",
    "    q = np.linalg.norm(position) / h\n",
    "    \n",
    "    if q >= 2:\n",
    "        w = 0\n",
    "    elif q < 2 and q >= 1:\n",
    "        w = (2-q)**2\n",
    "    else:\n",
    "        w = (2-q)**2 - 4*(1-q)**2\n",
    "    \n",
    "    return C_h * w"
   ]
  },
  {
   "cell_type": "code",
   "execution_count": 4,
   "metadata": {
    "collapsed": false
   },
   "outputs": [],
   "source": [
    "def find_density(positions,i):\n",
    "    total = 0\n",
    "    for j in range(N):\n",
    "        r_ij = positions[i,:] - positions[j,:]\n",
    "        total += kernel(r_ij)\n",
    "    return m * total\n",
    "    \n",
    "def find_pressure(density):\n",
    "    return k * density**(1 + 1/n)"
   ]
  },
  {
   "cell_type": "code",
   "execution_count": 5,
   "metadata": {
    "collapsed": false
   },
   "outputs": [],
   "source": [
    "lambdaFactor = 2*k*(1+n)*np.pi**(-3/(2*n)) * ( (M*gamma(5/2 + n)) / (R**3 * gamma(1+n)) )**(1/n) / R**2"
   ]
  },
  {
   "cell_type": "code",
   "execution_count": 11,
   "metadata": {
    "collapsed": false
   },
   "outputs": [],
   "source": [
    "def find_acceleration(positions,velocities,densities,pressures,i):\n",
    "    \n",
    "    total = 0\n",
    "    for j in range(N):\n",
    "        if i != j:\n",
    "            r_ij = positions[i,:] - positions[j,:]\n",
    "            pressure_term = (pressures[i]/densities[i]**2 + pressures[j]/densities[j]**2) * kernel_gradient(r_ij)\n",
    "            gravity_term = kernel(r_ij) * m**2 / np.linalg.norm(r_ij)**2\n",
    "            total += pressure_term + gravity_term\n",
    "            \n",
    "    return -nu*velocities[i,:] - m*total - lambdaFactor*positions[i,:]"
   ]
  },
  {
   "cell_type": "code",
   "execution_count": 7,
   "metadata": {
    "collapsed": true
   },
   "outputs": [],
   "source": [
    "def placement_uniform_sphere():\n",
    "    \"\"\"\n",
    "    make a random distribution of 'N' particles\n",
    "    inside a sphere.\n",
    "\n",
    "    returns\n",
    "    -------\n",
    "    2D position array\n",
    "\n",
    "    thanks\n",
    "    ------\n",
    "    https://stackoverflow.com/a/5408843\n",
    "    \"\"\"\n",
    "\n",
    "    # set up 1D position arrays in SPC\n",
    "    U           =   np.random.uniform(0,1,N)\n",
    "    COSTHETA    =   np.random.uniform(-1,1,N)\n",
    "\n",
    "    RADIUS  =   R * U**(1/3)\n",
    "    THETA   =   np.arccos(COSTHETA)\n",
    "    PHI     =   np.random.uniform(0,2*np.pi,N)\n",
    "\n",
    "    # set up 2D position array\n",
    "    X       =   np.zeros( (N,3) )\n",
    "    # convert SPC to CC\n",
    "    X[:,0]  =   RADIUS * np.sin(THETA) * np.cos(PHI)\n",
    "    X[:,1]  =   RADIUS * np.sin(THETA) * np.sin(PHI)\n",
    "    X[:,2]  =   RADIUS * np.cos(THETA)\n",
    "\n",
    "    return X"
   ]
  },
  {
   "cell_type": "code",
   "execution_count": 12,
   "metadata": {
    "collapsed": false
   },
   "outputs": [],
   "source": [
    "def run():\n",
    "    \n",
    "    rmax    =   R*1.2\n",
    "    \n",
    "    positions = placement_uniform_sphere()\n",
    "    velocities = np.zeros_like(positions)\n",
    "    \n",
    "    fig =   plt.figure(figsize=[15,15])\n",
    "    ax  =   fig.gca(projection='3d')\n",
    "    ax.set_aspect(1)\n",
    "    ax.plot(positions[:,0],positions[:,1],positions[:,2], 'go')\n",
    "    \n",
    "    FFMpegWriter    =   ani.writers['ffmpeg']\n",
    "    metadata        =   dict(title='SPH Star Formation', artist='Matplotlib')\n",
    "    writer          =   FFMpegWriter(fps=15, metadata=metadata)\n",
    "    \n",
    "    with writer.saving(fig,\"SPH.mp4\", 100):\n",
    "        for t in range(100):\n",
    "   \n",
    "            ax.clear()\n",
    "\n",
    "            densities = np.array([ find_density(positions,i) for i in range(N) ])\n",
    "            pressures = find_pressure(densities)\n",
    "            accelerations = np.array([ find_acceleration(positions,velocities,densities,pressures,i) for i in range(N) ])\n",
    "\n",
    "            positions_half = positions + velocities*(dt/2)\n",
    "            velocities_half = velocities + accelerations*(dt/2)\n",
    "            densities_half = np.array([ find_density(positions_half,i) for i in range(N) ])\n",
    "            pressures_half = find_pressure(densities_half)\n",
    "            accelerations_half = np.array([ find_acceleration(positions_half,velocities_half,densities_half,pressures_half,i) for i in range(N) ])\n",
    "\n",
    "            positions += velocities_half*dt\n",
    "            velocities += accelerations_half*dt\n",
    "\n",
    "            ax.plot(positions[:,0],positions[:,1],positions[:,2], 'go')\n",
    "            ax.set_aspect(1)\n",
    "            ax.set_xlim([-rmax,rmax])\n",
    "            ax.set_ylim([-rmax,rmax])\n",
    "            ax.set_zlim([-rmax,rmax])\n",
    "            writer.grab_frame()\n",
    "    \n",
    "    plt.close()\n",
    "\n",
    "run()"
   ]
  },
  {
   "cell_type": "code",
   "execution_count": null,
   "metadata": {
    "collapsed": true
   },
   "outputs": [],
   "source": []
  }
 ],
 "metadata": {
  "anaconda-cloud": {},
  "kernelspec": {
   "display_name": "Python 3",
   "language": "python",
   "name": "python3"
  },
  "language_info": {
   "codemirror_mode": {
    "name": "ipython",
    "version": 3
   },
   "file_extension": ".py",
   "mimetype": "text/x-python",
   "name": "python",
   "nbconvert_exporter": "python",
   "pygments_lexer": "ipython3",
   "version": "3.5.2"
  }
 },
 "nbformat": 4,
 "nbformat_minor": 2
}
