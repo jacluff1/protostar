{
 "cells": [
  {
   "cell_type": "markdown",
   "metadata": {},
   "source": [
    "# SPH - Philip Mocz"
   ]
  },
  {
   "cell_type": "code",
   "execution_count": 1,
   "metadata": {
    "collapsed": true
   },
   "outputs": [],
   "source": [
    "# polytropic constant\n",
    "k = 1\n",
    "\n",
    "# polytropic index\n",
    "n = 1\n",
    "\n",
    "# pressure\n",
    "def pressure(density):\n",
    "    return k * density**(1 + 1/n)"
   ]
  },
  {
   "cell_type": "code",
   "execution_count": 42,
   "metadata": {
    "collapsed": true
   },
   "outputs": [],
   "source": [
    "import numpy as np\n",
    "\n",
    "def heaviside(x,shift=0):\n",
    "    return 0.5 * (np.sign(x-shift) + 1)"
   ]
  },
  {
   "cell_type": "code",
   "execution_count": 14,
   "metadata": {
    "collapsed": true
   },
   "outputs": [],
   "source": [
    "def kernel(position,smoothingLength):\n",
    "    \n",
    "    # constant factor\n",
    "    C_h = 1 / (4*np.pi*smoothingLength**3)\n",
    "    \n",
    "    q = np.linalg.norm(position)\n",
    "    \n",
    "    if q >= 2:\n",
    "        w = 0\n",
    "    elif q < 2 and q >= 1:\n",
    "        w = (2-q)**3\n",
    "    else:\n",
    "        w = (2-q)**3 - 4*(1-q)**3\n",
    "\n",
    "    return C_h * w"
   ]
  },
  {
   "cell_type": "code",
   "execution_count": 43,
   "metadata": {
    "collapsed": false
   },
   "outputs": [],
   "source": [
    "def kernel_gradient(position,smoothingLength):\n",
    "    \n",
    "    # constant factor\n",
    "    C_h = 3 / (4*np.pi*smoothingLength**4)\n",
    "    \n",
    "    q = np.linalg.norm(position)\n",
    "    w1 = (2-q)**2 - 4*(1-q)**2\n",
    "    w2 = (2-q)**2\n",
    "    w3 = 0\n",
    "    \n",
    "    return C_h * (w1*heaviside(q) - w1*heaviside(q,shift=1) + w2*heaviside(q,shift=1) - w2*heaviside(q,shift=2) + w3*heaviside(q,shift=2))"
   ]
  },
  {
   "cell_type": "code",
   "execution_count": 44,
   "metadata": {
    "collapsed": false
   },
   "outputs": [
    {
     "data": {
      "text/plain": [
       "[<matplotlib.lines.Line2D at 0x7f7049629be0>,\n",
       " <matplotlib.lines.Line2D at 0x7f70493d8d68>,\n",
       " <matplotlib.lines.Line2D at 0x7f70493d8f60>]"
      ]
     },
     "execution_count": 44,
     "metadata": {},
     "output_type": "execute_result"
    },
    {
     "data": {
      "image/png": "[encoded data removed]",
      "text/plain": [
       "<matplotlib.figure.Figure at 0x7f7049587cc0>"
      ]
     },
     "metadata": {},
     "output_type": "display_data"
    }
   ],
   "source": [
    "import matplotlib.pyplot as plt\n",
    "%matplotlib inline\n",
    "\n",
    "r = np.zeros( (1000,3) )\n",
    "r[:,0] = np.linspace(-3,3,1000)\n",
    "\n",
    "y1 = np.array([ kernel(r[i,:],1) for i in range(1000) ]) \n",
    "y2 = np.array([ kernel_gradient(r[i,:],1) for i in range(1000) ])\n",
    "\n",
    "fig = plt.figure()\n",
    "plt.plot(r,y1,'g')\n",
    "plt.plot(r,y2,'b')"
   ]
  },
  {
   "cell_type": "code",
   "execution_count": null,
   "metadata": {
    "collapsed": true
   },
   "outputs": [],
   "source": []
  }
 ],
 "metadata": {
  "anaconda-cloud": {},
  "kernelspec": {
   "display_name": "Python 3",
   "language": "python",
   "name": "python3"
  },
  "language_info": {
   "codemirror_mode": {
    "name": "ipython",
    "version": 3
   },
   "file_extension": ".py",
   "mimetype": "text/x-python",
   "name": "python",
   "nbconvert_exporter": "python",
   "pygments_lexer": "ipython3",
   "version": "3.5.2"
  }
 },
 "nbformat": 4,
 "nbformat_minor": 2
}
